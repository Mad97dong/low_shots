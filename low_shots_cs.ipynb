{
 "cells": [
  {
   "cell_type": "code",
   "execution_count": 1,
   "metadata": {},
   "outputs": [],
   "source": [
    "from train import *\n",
    "from model import *\n",
    "from helpers import *\n",
    "\n",
    "import os\n",
    "import plac\n",
    "from tqdm.notebook import tqdm\n",
    "import matplotlib.pyplot as plt\n",
    "import matplotlib.image as mpimg\n",
    "from pathlib import Path\n",
    "\n",
    "import numpy as np\n",
    "from PIL import Image\n",
    "\n",
    "import torch\n",
    "from torch import nn, Tensor\n",
    "from torch.autograd import Variable\n",
    "from torch.nn.parameter import Parameter\n",
    "import torch.nn.functional as F\n",
    "from torchvision import datasets, transforms\n",
    "from torch.utils.data import Dataset\n",
    "from torchvision.utils import make_grid\n",
    "import torchvision.utils as vutils\n",
    "\n",
    "device = torch.device(\"cuda:0\" if torch.cuda.is_available() else \"cpu\")\n",
    "\n",
    "GPU = True\n",
    "if GPU == True:\n",
    "    torch.backends.cudnn.enabled = True\n",
    "    torch.backends.cudnn.benchmark = True\n",
    "    dtype = torch.cuda.FloatTensor\n",
    "    os.environ['CUDA_VISIBLE_DEVICES'] = '0'\n",
    "#     print(\"num GPUs\",torch.cuda.device_count())\n",
    "else:\n",
    "    dtype = torch.FloatTensor"
   ]
  },
  {
   "cell_type": "code",
   "execution_count": 2,
   "metadata": {},
   "outputs": [],
   "source": [
    "names = []\n",
    "images = []\n",
    "image_size = (3, 128, 128)\n",
    "fill_color = (255, 255, 255)\n",
    "num_of_low_shots = 24\n",
    "num_of_val = 24\n",
    "\n",
    "for img in os.listdir('./pokemon/images/images'):\n",
    "    im = Image.open('./pokemon/images/images/{}'.format(img))\n",
    "    names.append(img.split('.')[0])\n",
    "    im = im.convert(\"RGBA\")\n",
    "    if im.mode in ('RGBA', 'LA'):\n",
    "        bg = Image.new(im.mode[:-1], image_size[1:], fill_color) # size = (128, 128, 3)\n",
    "        bg.paste(im, im.split()[-1])\n",
    "        im = bg\n",
    "\n",
    "    images.append(np.asarray(im))\n",
    "#     if len(images) == 800: # crop at 800 images\n",
    "#         break\n",
    "    \n",
    "images = (np.asarray(images).astype(np.float32) / 255.0) / 2. + 0.5"
   ]
  },
  {
   "cell_type": "code",
   "execution_count": 3,
   "metadata": {},
   "outputs": [],
   "source": [
    "batch_size = 3\n",
    "    \n",
    "train_set = Pokeman(images[:num_of_low_shots], names[:num_of_low_shots])\n",
    "train_loader = torch.utils.data.DataLoader(\n",
    "    train_set, batch_size=batch_size, \n",
    "    shuffle=True, num_workers=8, pin_memory=False,\n",
    ")\n",
    "\n",
    "\n",
    "val_set = Pokeman(images[-num_of_val:], names[-num_of_val:])\n",
    "val_loader = torch.utils.data.DataLoader(val_set, shuffle=False, batch_size=1)"
   ]
  },
  {
   "cell_type": "code",
   "execution_count": 4,
   "metadata": {},
   "outputs": [
    {
     "name": "stdout",
     "output_type": "stream",
     "text": [
      "13248384\n",
      "CombinedModel(\n",
      "  (Z): LatentVariables()\n",
      "  (Decoder): Decoder(\n",
      "    (dcnn): Sequential(\n",
      "      (0): ConvTranspose2d(128, 1024, kernel_size=(4, 4), stride=(1, 1), bias=False)\n",
      "      (1): BatchNorm2d(1024, eps=1e-05, momentum=0.1, affine=True, track_running_stats=True)\n",
      "      (2): ReLU(inplace=True)\n",
      "      (3): ConvTranspose2d(1024, 512, kernel_size=(4, 4), stride=(2, 2), padding=(1, 1), bias=False)\n",
      "      (4): BatchNorm2d(512, eps=1e-05, momentum=0.1, affine=True, track_running_stats=True)\n",
      "      (5): ReLU(inplace=True)\n",
      "      (6): ConvTranspose2d(512, 256, kernel_size=(4, 4), stride=(2, 2), padding=(1, 1), bias=False)\n",
      "      (7): BatchNorm2d(256, eps=1e-05, momentum=0.1, affine=True, track_running_stats=True)\n",
      "      (8): ReLU(inplace=True)\n",
      "      (9): ConvTranspose2d(256, 128, kernel_size=(4, 4), stride=(2, 2), padding=(1, 1), bias=False)\n",
      "      (10): BatchNorm2d(128, eps=1e-05, momentum=0.1, affine=True, track_running_stats=True)\n",
      "      (11): ReLU(inplace=True)\n",
      "      (12): ConvTranspose2d(128, 64, kernel_size=(4, 4), stride=(2, 2), padding=(1, 1), bias=False)\n",
      "      (13): BatchNorm2d(64, eps=1e-05, momentum=0.1, affine=True, track_running_stats=True)\n",
      "      (14): ReLU(inplace=True)\n",
      "      (15): ConvTranspose2d(64, 3, kernel_size=(4, 4), stride=(2, 2), padding=(1, 1), bias=False)\n",
      "      (16): Sigmoid()\n",
      "    )\n",
      "  )\n",
      ")\n"
     ]
    }
   ],
   "source": [
    "code_dim = 128\n",
    "Z = np.random.normal(size=(len(train_set), 1, code_dim)).astype(np.float32) # (number of low shots, 128)\n",
    "Z = torch.tensor(Z, requires_grad=True).to(device)\n",
    "\n",
    "LV_Z = LatentVariables(Z).to(device)\n",
    "pre_decoder = Decoder(code_dim).to(device)\n",
    "\n",
    "\n",
    "g = CombinedModel(LV_Z, pre_decoder).to(device)\n",
    "g.apply(weight_init)\n",
    "\n",
    "# if os.path.isfile(\"./low_shots_pk/checkpoint/current_decoder_pre.pt\"):\n",
    "#     pre_decoder.load_state_dict(torch.load(\"./low_shots_pk/checkpoint/current_decoder_pre.pt\"))\n",
    "    \n",
    "print(get_n_params(g))\n",
    "print(g)"
   ]
  },
  {
   "cell_type": "code",
   "execution_count": 5,
   "metadata": {},
   "outputs": [],
   "source": [
    "# prepare for pre-train\n",
    "loss_fn = nn.MSELoss()\n",
    "\n",
    "learning_rate = 1e-4\n",
    "optimizer = torch.optim.Adam(g.parameters(), lr=learning_rate)\n",
    "\n",
    "Xi_train, _, idx_train = (next(iter(train_loader))) # Xi_val: [1, 3, 128, 128]\n",
    "imsave('low_shots.png', make_grid(Xi_train.cpu(), nrow=8).numpy().transpose(1, 2, 0))\n",
    "train_image_index = np.arange(0, len(train_set))"
   ]
  },
  {
   "cell_type": "code",
   "execution_count": 6,
   "metadata": {},
   "outputs": [],
   "source": [
    "# pre-train, skipped\n",
    "epoch_for_pre = 10\n",
    "g, Z = pre_train(epoch_for_pre, \n",
    "                 train_loader, \n",
    "                 g, \n",
    "                 Z,\n",
    "                 train_image_index,\n",
    "                 optimizer, \n",
    "                 pre_decoder,\n",
    "                  \"./low_shots_pk/checkpoint/current_decoder_pre.pt\")"
   ]
  },
  {
   "cell_type": "code",
   "execution_count": 6,
   "metadata": {},
   "outputs": [],
   "source": [
    "# define measurement \n",
    "# compressive sensing\n",
    "def measure_matrix(ratio):\n",
    "    Xi_val, _, idx = val_set[0]\n",
    "    X = Xi_val.reshape(-1, np.prod(Xi_val.shape)) # [1, 16384]\n",
    "    n = X.shape[-1]\n",
    "    m = int(n * ratio) # compression ratio\n",
    "    return torch.empty(n, m).normal_(0, 1)\n",
    "    \n",
    "def forwardm(img_var, measure):\n",
    "    X = img_var.reshape(-1, np.prod(img_var.shape))\n",
    "    return torch.mm(X, measure).to(device)"
   ]
  },
  {
   "cell_type": "code",
   "execution_count": 8,
   "metadata": {},
   "outputs": [
    {
     "data": {
      "text/plain": [
       "tensor([[[ 0.7548,  0.3520, -0.2079,  ..., -0.8941, -0.5550, -0.9987]],\n",
       "\n",
       "        [[-1.0000,  0.0014, -0.2670,  ...,  0.9984,  1.0000,  1.0000]],\n",
       "\n",
       "        [[ 1.0001, -0.6205,  0.9372,  ..., -0.5857,  0.3992, -0.6930]],\n",
       "\n",
       "        ...,\n",
       "\n",
       "        [[-0.9985,  0.6267,  0.5412,  ..., -0.1423, -1.0001, -0.8073]],\n",
       "\n",
       "        [[-0.3143,  0.5867, -0.5556,  ..., -0.9901, -1.0000, -0.9998]],\n",
       "\n",
       "        [[ 0.5124, -0.2109,  1.0001,  ..., -1.0000,  0.8890, -0.6599]]],\n",
       "       device='cuda:0', requires_grad=True)"
      ]
     },
     "execution_count": 8,
     "metadata": {},
     "output_type": "execute_result"
    }
   ],
   "source": [
    "Z = torch.load(\"./low_shots_pk/checkpoint/current_z_pre.pt\")\n",
    "Z"
   ]
  },
  {
   "cell_type": "code",
   "execution_count": 6,
   "metadata": {},
   "outputs": [
    {
     "ename": "KeyboardInterrupt",
     "evalue": "",
     "output_type": "error",
     "traceback": [
      "\u001b[0;31m---------------------------------------------------------------------------\u001b[0m",
      "\u001b[0;31mKeyboardInterrupt\u001b[0m                         Traceback (most recent call last)",
      "\u001b[0;32m<ipython-input-6-d95c811878d7>\u001b[0m in \u001b[0;36m<module>\u001b[0;34m\u001b[0m\n\u001b[1;32m     15\u001b[0m \u001b[0;31m# our measurement matrix\u001b[0m\u001b[0;34m\u001b[0m\u001b[0;34m\u001b[0m\u001b[0;34m\u001b[0m\u001b[0m\n\u001b[1;32m     16\u001b[0m \u001b[0mratio\u001b[0m \u001b[0;34m=\u001b[0m \u001b[0;36m0.5\u001b[0m\u001b[0;34m\u001b[0m\u001b[0;34m\u001b[0m\u001b[0m\n\u001b[0;32m---> 17\u001b[0;31m \u001b[0mmeasure\u001b[0m \u001b[0;34m=\u001b[0m \u001b[0mmeasure_matrix\u001b[0m\u001b[0;34m(\u001b[0m\u001b[0mratio\u001b[0m\u001b[0;34m)\u001b[0m\u001b[0;34m\u001b[0m\u001b[0;34m\u001b[0m\u001b[0m\n\u001b[0m\u001b[1;32m     18\u001b[0m \u001b[0mmeasure\u001b[0m \u001b[0;34m=\u001b[0m \u001b[0mmeasure\u001b[0m\u001b[0;34m.\u001b[0m\u001b[0mto\u001b[0m\u001b[0;34m(\u001b[0m\u001b[0mdevice\u001b[0m\u001b[0;34m)\u001b[0m\u001b[0;34m\u001b[0m\u001b[0;34m\u001b[0m\u001b[0m\n\u001b[1;32m     19\u001b[0m \u001b[0;34m\u001b[0m\u001b[0m\n",
      "\u001b[0;32m<ipython-input-5-8fd87ab47e7c>\u001b[0m in \u001b[0;36mmeasure_matrix\u001b[0;34m(ratio)\u001b[0m\n\u001b[1;32m      6\u001b[0m     \u001b[0mn\u001b[0m \u001b[0;34m=\u001b[0m \u001b[0mX\u001b[0m\u001b[0;34m.\u001b[0m\u001b[0mshape\u001b[0m\u001b[0;34m[\u001b[0m\u001b[0;34m-\u001b[0m\u001b[0;36m1\u001b[0m\u001b[0;34m]\u001b[0m\u001b[0;34m\u001b[0m\u001b[0;34m\u001b[0m\u001b[0m\n\u001b[1;32m      7\u001b[0m     \u001b[0mm\u001b[0m \u001b[0;34m=\u001b[0m \u001b[0mint\u001b[0m\u001b[0;34m(\u001b[0m\u001b[0mn\u001b[0m \u001b[0;34m*\u001b[0m \u001b[0mratio\u001b[0m\u001b[0;34m)\u001b[0m \u001b[0;31m# compression ratio\u001b[0m\u001b[0;34m\u001b[0m\u001b[0;34m\u001b[0m\u001b[0m\n\u001b[0;32m----> 8\u001b[0;31m     \u001b[0;32mreturn\u001b[0m \u001b[0mtorch\u001b[0m\u001b[0;34m.\u001b[0m\u001b[0mempty\u001b[0m\u001b[0;34m(\u001b[0m\u001b[0mn\u001b[0m\u001b[0;34m,\u001b[0m \u001b[0mm\u001b[0m\u001b[0;34m)\u001b[0m\u001b[0;34m.\u001b[0m\u001b[0mnormal_\u001b[0m\u001b[0;34m(\u001b[0m\u001b[0;36m0\u001b[0m\u001b[0;34m,\u001b[0m \u001b[0;36m1\u001b[0m\u001b[0;34m)\u001b[0m\u001b[0;34m\u001b[0m\u001b[0;34m\u001b[0m\u001b[0m\n\u001b[0m\u001b[1;32m      9\u001b[0m \u001b[0;34m\u001b[0m\u001b[0m\n\u001b[1;32m     10\u001b[0m \u001b[0;32mdef\u001b[0m \u001b[0mforwardm\u001b[0m\u001b[0;34m(\u001b[0m\u001b[0mimg_var\u001b[0m\u001b[0;34m,\u001b[0m \u001b[0mmeasure\u001b[0m\u001b[0;34m)\u001b[0m\u001b[0;34m:\u001b[0m\u001b[0;34m\u001b[0m\u001b[0;34m\u001b[0m\u001b[0m\n",
      "\u001b[0;31mKeyboardInterrupt\u001b[0m: "
     ]
    }
   ],
   "source": [
    "from IPython.display import clear_output\n",
    "\n",
    "# constant for training\n",
    "# Z = torch.load(\"./low_shots_pk/checkpoint/current_z_pre.pt\")\n",
    "code_dim = 128\n",
    "\n",
    "epoch_for_train_z = 1250\n",
    "epoch_for_joint_train = 350\n",
    "\n",
    "# to record final outputs, z, and psnr\n",
    "final_output = torch.zeros((len(val_set), 3, 128, 128)).to(device)\n",
    "final_z_dict = torch.zeros((len(val_set), 1, code_dim)).to(device)\n",
    "psnr_list = np.zeros(len(val_set))\n",
    "    \n",
    "# our measurement matrix\n",
    "ratio = 0.5\n",
    "measure = measure_matrix(ratio)\n",
    "measure = measure.to(device)\n",
    "    \n",
    "# train on entire val_set\n",
    "for i, (Xi_val, _, idx_val) in enumerate(val_loader):\n",
    "    Xi_val = Variable(Xi_val).to(device)\n",
    "    Xi_val_noisy = forwardm(Xi_val, measure) # the noisy observation, y\n",
    "    \n",
    "    # load pre-trained decoder\n",
    "    train_decoder = Decoder(code_dim).to(device)\n",
    "    if os.path.isfile(\"./low_shots_pk/checkpoint/current_decoder_pre.pt\"):\n",
    "        train_decoder.load_state_dict(torch.load(\"./low_shots_pk/checkpoint/current_decoder_pre.pt\"))\n",
    "    else:\n",
    "        train_decoder.apply(weight_init)\n",
    "        \n",
    "    progress = tqdm(total=1, desc='loop % 3d' % i)\n",
    "    \n",
    "    # initial z\n",
    "    target_z = sample_multivar_normal(Z)\n",
    "    \n",
    "    # combined to have a new model train_g\n",
    "    LV_target_z = LatentVariables(target_z).to(device)\n",
    "    train_g = CombinedModel(LV_target_z, train_decoder).to(device)\n",
    "    \n",
    "    # train phase: train z to find z_hat\n",
    "    target_z_hat, _ = train(epoch_for_train_z, \n",
    "                            Xi_val_noisy, \n",
    "                            train_g, \n",
    "                            train_decoder, \n",
    "                            target_z, \n",
    "                            joint_train=False,\n",
    "                            learning_rate=5 * 1e-2,\n",
    "                            save_path=\"./low_shots_pk/checkpoint/current_checkpoint_train_z.pt\",\n",
    "                            mask=None, \n",
    "                            measure=measure)\n",
    "\n",
    "    # train phase: joint train\n",
    "    warm_start_z = LatentVariables(target_z_hat).to(device)\n",
    "    joint_train_g = CombinedModel(warm_start_z, train_decoder).to(device)\n",
    "    \n",
    "    final_z, final_G = train(epoch_for_joint_train, \n",
    "                             Xi_val_noisy, \n",
    "                             joint_train_g,\n",
    "                             train_decoder, \n",
    "                             target_z_hat, \n",
    "                             joint_train=True,\n",
    "                             learning_rate=1e-4,\n",
    "                             save_path=\"./low_shots_pk/checkpoint/current_checkpoint_final.pt\",\n",
    "                             mask=None,\n",
    "                             measure=measure)\n",
    "    \n",
    "    final_output[i] = final_G\n",
    "    final_z_dict[i] = final_z\n",
    "    psnr_list[i] = psnr(Xi_val.cpu().numpy(), final_output[idx_val].detach().cpu().numpy())\n",
    "        \n",
    "    progress.set_postfix({'loss': loss_fn(forwardm(final_G, measure), Xi_val_noisy).item()})\n",
    "    progress.update()"
   ]
  },
  {
   "cell_type": "code",
   "execution_count": null,
   "metadata": {},
   "outputs": [],
   "source": [
    "# visual results for inpainting task\n",
    "Xi_val, _, idx = val_set[10]\n",
    "Xi_val = Xi_val.to(device)\n",
    "print(\"average PSNR with compression ratio 0.5: \", np.mean(psnr_list))\n",
    "\n",
    "def myimgshow(plt, img):\n",
    "    plt.imshow(np.clip(img.data.cpu().numpy().squeeze().transpose(1, 2, 0), 0, 1))\n",
    "    \n",
    "fig = plt.figure(figsize = (17,17)) \n",
    "    \n",
    "ax1 = fig.add_subplot(121)\n",
    "myimgshow(ax1, Xi_val)\n",
    "ax1.set_title('Original image')\n",
    "ax1.axis('off')\n",
    "\n",
    "ax2 = fig.add_subplot(122)\n",
    "myimgshow(ax2, final_output[idx])\n",
    "ax2.set_title( \"Recovered image, SNR: %.2f\" % psnr(Xi_val.cpu().numpy(), final_output[idx].detach().cpu().numpy()) ) \n",
    "ax2.axis('off')"
   ]
  },
  {
   "cell_type": "code",
   "execution_count": 7,
   "metadata": {},
   "outputs": [],
   "source": [
    "from IPython.display import clear_output\n",
    "\n",
    "# constant for training\n",
    "code_dim = 128\n",
    "epoch_for_train_z = 1250\n",
    "epoch_for_joint_train = 350\n",
    "loss_fn = nn.MSELoss()\n",
    "\n",
    "# test on different ratios\n",
    "ratios = np.arange(0.1, 1.1, 0.2)\n",
    "measures = [measure_matrix(r) for r in ratios]\n",
    "\n",
    "# record average pnsr\n",
    "average_pnsr_list = []\n",
    "\n",
    "def train_all_val(measure):\n",
    "    # to record final outputs, z, and psnr\n",
    "    final_output = torch.zeros((len(val_set), 3, 128, 128)).to(device)\n",
    "    final_z_dict = torch.zeros((len(val_set), 1, code_dim)).to(device)\n",
    "    psnr_list = np.zeros(len(val_set))\n",
    "    \n",
    "    # our measurement matrix\n",
    "    measure = measure.to(device)\n",
    "    \n",
    "    # train on entire val_set\n",
    "    for i, (Xi_val, _, idx_val) in enumerate(val_loader):\n",
    "        progress = tqdm(total=1, desc='loop % 3d' % i)\n",
    "        Xi_val = Variable(Xi_val).to(device)\n",
    "        Xi_val_noisy = forwardm(Xi_val, measure) # the noisy observation, y\n",
    "    \n",
    "        # load pre-trained decoder\n",
    "        train_decoder = Decoder(code_dim).to(device)\n",
    "        train_decoder.load_state_dict(torch.load(\"./low_shots_pk/checkpoint/current_decoder_pre.pt\"))\n",
    "    \n",
    "        # initial z\n",
    "        target_z = sample_multivar_normal(Z)\n",
    "    \n",
    "        # combined to have a new model train_g\n",
    "        LV_target_z = LatentVariables(target_z).to(device)\n",
    "        train_g = CombinedModel(LV_target_z, train_decoder).to(device)\n",
    "    \n",
    "        # train phase: train z to find z_hat\n",
    "        target_z_hat, _ = train(epoch_for_train_z, \n",
    "                                Xi_val_noisy, \n",
    "                                train_g, \n",
    "                                train_decoder, \n",
    "                                target_z, \n",
    "                                joint_train=False,\n",
    "                                learning_rate=5 * 1e-2,\n",
    "                                save_path=\"./low_shots_pk/checkpoint/current_checkpoint_train_z.pt\",\n",
    "                                mask=None, \n",
    "                                measure=measure)\n",
    "\n",
    "        # train phase: joint train\n",
    "        warm_start_z = LatentVariables(target_z_hat).to(device)\n",
    "        joint_train_g = CombinedModel(warm_start_z, train_decoder).to(device)\n",
    "    \n",
    "        final_z, final_G = train(epoch_for_joint_train, \n",
    "                             Xi_val_noisy, \n",
    "                             joint_train_g,\n",
    "                             train_decoder, \n",
    "                             target_z_hat, \n",
    "                             joint_train=True,\n",
    "                             learning_rate=1e-4,\n",
    "                             save_path=\"./low_shots_pk/checkpoint/current_checkpoint_final.pt\",\n",
    "                             mask=None,\n",
    "                             measure=measure)\n",
    "    \n",
    "        final_output[i] = final_G\n",
    "        final_z_dict[i] = final_z\n",
    "        psnr_list[i] = psnr(Xi_val.cpu().numpy(), final_output[idx_val].detach().cpu().numpy())\n",
    "        \n",
    "        progress.set_postfix({'loss': loss_fn(forwardm(final_G, measure), Xi_val_noisy).item()})\n",
    "        progress.update()\n",
    "    return np.mean(psnr_list)"
   ]
  },
  {
   "cell_type": "code",
   "execution_count": 9,
   "metadata": {
    "scrolled": false
   },
   "outputs": [
    {
     "name": "stdout",
     "output_type": "stream",
     "text": [
      "for ratio: 0.1\n"
     ]
    },
    {
     "data": {
      "application/vnd.jupyter.widget-view+json": {
       "model_id": "4287a8cc140c4128b8adb8f13b26231b",
       "version_major": 2,
       "version_minor": 0
      },
      "text/plain": [
       "HBox(children=(FloatProgress(value=0.0, description='loop   0', max=1.0, style=ProgressStyle(description_width…"
      ]
     },
     "metadata": {},
     "output_type": "display_data"
    },
    {
     "data": {
      "application/vnd.jupyter.widget-view+json": {
       "model_id": "96fcd79fcc4f476aa72c897b66fc5fb1",
       "version_major": 2,
       "version_minor": 0
      },
      "text/plain": [
       "HBox(children=(FloatProgress(value=0.0, description='loop   1', max=1.0, style=ProgressStyle(description_width…"
      ]
     },
     "metadata": {},
     "output_type": "display_data"
    },
    {
     "data": {
      "application/vnd.jupyter.widget-view+json": {
       "model_id": "f77bd8f1e8464beda4a9f7bd8bd219cf",
       "version_major": 2,
       "version_minor": 0
      },
      "text/plain": [
       "HBox(children=(FloatProgress(value=0.0, description='loop   2', max=1.0, style=ProgressStyle(description_width…"
      ]
     },
     "metadata": {},
     "output_type": "display_data"
    },
    {
     "data": {
      "application/vnd.jupyter.widget-view+json": {
       "model_id": "30d7d680447542a9b7c5442e9795e1a1",
       "version_major": 2,
       "version_minor": 0
      },
      "text/plain": [
       "HBox(children=(FloatProgress(value=0.0, description='loop   3', max=1.0, style=ProgressStyle(description_width…"
      ]
     },
     "metadata": {},
     "output_type": "display_data"
    },
    {
     "data": {
      "application/vnd.jupyter.widget-view+json": {
       "model_id": "a09ef0ea21544505bc08a20e30989555",
       "version_major": 2,
       "version_minor": 0
      },
      "text/plain": [
       "HBox(children=(FloatProgress(value=0.0, description='loop   4', max=1.0, style=ProgressStyle(description_width…"
      ]
     },
     "metadata": {},
     "output_type": "display_data"
    },
    {
     "data": {
      "application/vnd.jupyter.widget-view+json": {
       "model_id": "7f79c7bbee5342ba931a48e34184eb7b",
       "version_major": 2,
       "version_minor": 0
      },
      "text/plain": [
       "HBox(children=(FloatProgress(value=0.0, description='loop   5', max=1.0, style=ProgressStyle(description_width…"
      ]
     },
     "metadata": {},
     "output_type": "display_data"
    },
    {
     "ename": "RuntimeError",
     "evalue": "CUDA out of memory. Tried to allocate 32.00 MiB (GPU 0; 10.76 GiB total capacity; 9.85 GiB already allocated; 3.12 MiB free; 9.88 GiB reserved in total by PyTorch)",
     "output_type": "error",
     "traceback": [
      "\u001b[0;31m---------------------------------------------------------------------------\u001b[0m",
      "\u001b[0;31mRuntimeError\u001b[0m                              Traceback (most recent call last)",
      "\u001b[0;32m<ipython-input-9-831e73cd3bed>\u001b[0m in \u001b[0;36m<module>\u001b[0;34m\u001b[0m\n\u001b[1;32m      2\u001b[0m     \u001b[0;32mif\u001b[0m \u001b[0mratio\u001b[0m \u001b[0;34m!=\u001b[0m \u001b[0mratios\u001b[0m\u001b[0;34m[\u001b[0m\u001b[0;34m-\u001b[0m\u001b[0;36m1\u001b[0m\u001b[0;34m]\u001b[0m\u001b[0;34m:\u001b[0m\u001b[0;34m\u001b[0m\u001b[0;34m\u001b[0m\u001b[0m\n\u001b[1;32m      3\u001b[0m         \u001b[0mprint\u001b[0m\u001b[0;34m(\u001b[0m\u001b[0;34m\"for ratio:\"\u001b[0m\u001b[0;34m,\u001b[0m \u001b[0mratio\u001b[0m\u001b[0;34m)\u001b[0m\u001b[0;34m\u001b[0m\u001b[0;34m\u001b[0m\u001b[0m\n\u001b[0;32m----> 4\u001b[0;31m         \u001b[0msnr\u001b[0m \u001b[0;34m=\u001b[0m \u001b[0mtrain_all_val\u001b[0m\u001b[0;34m(\u001b[0m\u001b[0mmeasure\u001b[0m\u001b[0;34m)\u001b[0m\u001b[0;34m\u001b[0m\u001b[0;34m\u001b[0m\u001b[0m\n\u001b[0m\u001b[1;32m      5\u001b[0m         \u001b[0maverage_pnsr_list\u001b[0m\u001b[0;34m.\u001b[0m\u001b[0mappend\u001b[0m\u001b[0;34m(\u001b[0m\u001b[0msnr\u001b[0m\u001b[0;34m)\u001b[0m\u001b[0;34m\u001b[0m\u001b[0;34m\u001b[0m\u001b[0m\n\u001b[1;32m      6\u001b[0m         \u001b[0mprint\u001b[0m\u001b[0;34m(\u001b[0m\u001b[0;34m\"psnr = \"\u001b[0m\u001b[0;34m,\u001b[0m \u001b[0msnr\u001b[0m\u001b[0;34m)\u001b[0m\u001b[0;34m\u001b[0m\u001b[0;34m\u001b[0m\u001b[0m\n",
      "\u001b[0;32m<ipython-input-7-6913b84f50bb>\u001b[0m in \u001b[0;36mtrain_all_val\u001b[0;34m(measure)\u001b[0m\n\u001b[1;32m     65\u001b[0m                              \u001b[0msave_path\u001b[0m\u001b[0;34m=\u001b[0m\u001b[0;34m\"./low_shots_pk/checkpoint/current_checkpoint_final.pt\"\u001b[0m\u001b[0;34m,\u001b[0m\u001b[0;34m\u001b[0m\u001b[0;34m\u001b[0m\u001b[0m\n\u001b[1;32m     66\u001b[0m                              \u001b[0mmask\u001b[0m\u001b[0;34m=\u001b[0m\u001b[0;32mNone\u001b[0m\u001b[0;34m,\u001b[0m\u001b[0;34m\u001b[0m\u001b[0;34m\u001b[0m\u001b[0m\n\u001b[0;32m---> 67\u001b[0;31m                              measure=measure)\n\u001b[0m\u001b[1;32m     68\u001b[0m \u001b[0;34m\u001b[0m\u001b[0m\n\u001b[1;32m     69\u001b[0m         \u001b[0mfinal_output\u001b[0m\u001b[0;34m[\u001b[0m\u001b[0mi\u001b[0m\u001b[0;34m]\u001b[0m \u001b[0;34m=\u001b[0m \u001b[0mfinal_G\u001b[0m\u001b[0;34m\u001b[0m\u001b[0;34m\u001b[0m\u001b[0m\n",
      "\u001b[0;32m~/torch/low_shots/train.py\u001b[0m in \u001b[0;36mtrain\u001b[0;34m(n_epochs, Xi_val, train_g, train_decoder, target_z, joint_train, learning_rate, save_path, mask, measure)\u001b[0m\n\u001b[1;32m    133\u001b[0m         \u001b[0moptimizer\u001b[0m\u001b[0;34m.\u001b[0m\u001b[0mzero_grad\u001b[0m\u001b[0;34m(\u001b[0m\u001b[0;34m)\u001b[0m\u001b[0;34m\u001b[0m\u001b[0;34m\u001b[0m\u001b[0m\n\u001b[1;32m    134\u001b[0m         \u001b[0mloss\u001b[0m\u001b[0;34m.\u001b[0m\u001b[0mbackward\u001b[0m\u001b[0;34m(\u001b[0m\u001b[0;34m)\u001b[0m\u001b[0;34m\u001b[0m\u001b[0;34m\u001b[0m\u001b[0m\n\u001b[0;32m--> 135\u001b[0;31m         \u001b[0moptimizer\u001b[0m\u001b[0;34m.\u001b[0m\u001b[0mstep\u001b[0m\u001b[0;34m(\u001b[0m\u001b[0;34m)\u001b[0m\u001b[0;34m\u001b[0m\u001b[0;34m\u001b[0m\u001b[0m\n\u001b[0m\u001b[1;32m    136\u001b[0m \u001b[0;34m\u001b[0m\u001b[0m\n\u001b[1;32m    137\u001b[0m         \u001b[0;31m# project z into the unit ball\u001b[0m\u001b[0;34m\u001b[0m\u001b[0;34m\u001b[0m\u001b[0;34m\u001b[0m\u001b[0m\n",
      "\u001b[0;32m~/miniconda3/lib/python3.7/site-packages/torch/autograd/grad_mode.py\u001b[0m in \u001b[0;36mdecorate_context\u001b[0;34m(*args, **kwargs)\u001b[0m\n\u001b[1;32m     13\u001b[0m         \u001b[0;32mdef\u001b[0m \u001b[0mdecorate_context\u001b[0m\u001b[0;34m(\u001b[0m\u001b[0;34m*\u001b[0m\u001b[0margs\u001b[0m\u001b[0;34m,\u001b[0m \u001b[0;34m**\u001b[0m\u001b[0mkwargs\u001b[0m\u001b[0;34m)\u001b[0m\u001b[0;34m:\u001b[0m\u001b[0;34m\u001b[0m\u001b[0;34m\u001b[0m\u001b[0m\n\u001b[1;32m     14\u001b[0m             \u001b[0;32mwith\u001b[0m \u001b[0mself\u001b[0m\u001b[0;34m:\u001b[0m\u001b[0;34m\u001b[0m\u001b[0;34m\u001b[0m\u001b[0m\n\u001b[0;32m---> 15\u001b[0;31m                 \u001b[0;32mreturn\u001b[0m \u001b[0mfunc\u001b[0m\u001b[0;34m(\u001b[0m\u001b[0;34m*\u001b[0m\u001b[0margs\u001b[0m\u001b[0;34m,\u001b[0m \u001b[0;34m**\u001b[0m\u001b[0mkwargs\u001b[0m\u001b[0;34m)\u001b[0m\u001b[0;34m\u001b[0m\u001b[0;34m\u001b[0m\u001b[0m\n\u001b[0m\u001b[1;32m     16\u001b[0m         \u001b[0;32mreturn\u001b[0m \u001b[0mdecorate_context\u001b[0m\u001b[0;34m\u001b[0m\u001b[0;34m\u001b[0m\u001b[0m\n\u001b[1;32m     17\u001b[0m \u001b[0;34m\u001b[0m\u001b[0m\n",
      "\u001b[0;32m~/miniconda3/lib/python3.7/site-packages/torch/optim/adam.py\u001b[0m in \u001b[0;36mstep\u001b[0;34m(self, closure)\u001b[0m\n\u001b[1;32m     79\u001b[0m                     \u001b[0mstate\u001b[0m\u001b[0;34m[\u001b[0m\u001b[0;34m'exp_avg'\u001b[0m\u001b[0;34m]\u001b[0m \u001b[0;34m=\u001b[0m \u001b[0mtorch\u001b[0m\u001b[0;34m.\u001b[0m\u001b[0mzeros_like\u001b[0m\u001b[0;34m(\u001b[0m\u001b[0mp\u001b[0m\u001b[0;34m,\u001b[0m \u001b[0mmemory_format\u001b[0m\u001b[0;34m=\u001b[0m\u001b[0mtorch\u001b[0m\u001b[0;34m.\u001b[0m\u001b[0mpreserve_format\u001b[0m\u001b[0;34m)\u001b[0m\u001b[0;34m\u001b[0m\u001b[0;34m\u001b[0m\u001b[0m\n\u001b[1;32m     80\u001b[0m                     \u001b[0;31m# Exponential moving average of squared gradient values\u001b[0m\u001b[0;34m\u001b[0m\u001b[0;34m\u001b[0m\u001b[0;34m\u001b[0m\u001b[0m\n\u001b[0;32m---> 81\u001b[0;31m                     \u001b[0mstate\u001b[0m\u001b[0;34m[\u001b[0m\u001b[0;34m'exp_avg_sq'\u001b[0m\u001b[0;34m]\u001b[0m \u001b[0;34m=\u001b[0m \u001b[0mtorch\u001b[0m\u001b[0;34m.\u001b[0m\u001b[0mzeros_like\u001b[0m\u001b[0;34m(\u001b[0m\u001b[0mp\u001b[0m\u001b[0;34m,\u001b[0m \u001b[0mmemory_format\u001b[0m\u001b[0;34m=\u001b[0m\u001b[0mtorch\u001b[0m\u001b[0;34m.\u001b[0m\u001b[0mpreserve_format\u001b[0m\u001b[0;34m)\u001b[0m\u001b[0;34m\u001b[0m\u001b[0;34m\u001b[0m\u001b[0m\n\u001b[0m\u001b[1;32m     82\u001b[0m                     \u001b[0;32mif\u001b[0m \u001b[0mamsgrad\u001b[0m\u001b[0;34m:\u001b[0m\u001b[0;34m\u001b[0m\u001b[0;34m\u001b[0m\u001b[0m\n\u001b[1;32m     83\u001b[0m                         \u001b[0;31m# Maintains max of all exp. moving avg. of sq. grad. values\u001b[0m\u001b[0;34m\u001b[0m\u001b[0;34m\u001b[0m\u001b[0;34m\u001b[0m\u001b[0m\n",
      "\u001b[0;31mRuntimeError\u001b[0m: CUDA out of memory. Tried to allocate 32.00 MiB (GPU 0; 10.76 GiB total capacity; 9.85 GiB already allocated; 3.12 MiB free; 9.88 GiB reserved in total by PyTorch)"
     ]
    }
   ],
   "source": [
    "for ratio, measure in zip(ratios, measures):\n",
    "    if ratio != ratios[-1]:\n",
    "        print(\"for ratio:\", ratio)\n",
    "        snr = train_all_val(measure)\n",
    "        average_pnsr_list.append(snr)\n",
    "        print(\"psnr = \", snr)\n",
    "        clear_output(wait=True)\n",
    "        \n",
    "    "
   ]
  },
  {
   "cell_type": "code",
   "execution_count": 19,
   "metadata": {},
   "outputs": [
    {
     "data": {
      "text/plain": [
       "(-0.5, 127.5, 127.5, -0.5)"
      ]
     },
     "execution_count": 19,
     "metadata": {},
     "output_type": "execute_result"
    },
    {
     "data": {
      "image/png": "[encoded data removed]",
      "text/plain": [
       "<Figure size 1224x1224 with 2 Axes>"
      ]
     },
     "metadata": {
      "needs_background": "light"
     },
     "output_type": "display_data"
    }
   ],
   "source": []
  }
 ],
 "metadata": {
  "kernelspec": {
   "display_name": "Python 3",
   "language": "python",
   "name": "python3"
  },
  "language_info": {
   "codemirror_mode": {
    "name": "ipython",
    "version": 3
   },
   "file_extension": ".py",
   "mimetype": "text/x-python",
   "name": "python",
   "nbconvert_exporter": "python",
   "pygments_lexer": "ipython3",
   "version": "3.7.6"
  }
 },
 "nbformat": 4,
 "nbformat_minor": 4
}
